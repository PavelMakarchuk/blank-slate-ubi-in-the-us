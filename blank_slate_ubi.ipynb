{
 "cells": [
  {
   "cell_type": "markdown",
   "metadata": {},
   "source": [
    "# Blank Slate UBI data generation\n",
    "\n",
    "This notebook generates the data in the report, by:\n",
    "\n",
    "* Solving for optimal UBI levels for each flat tax rate (locally)\n",
    "* Using the PolicyEngine API to extract the economic impact data for each policy"
   ]
  },
  {
   "cell_type": "code",
   "execution_count": 22,
   "metadata": {},
   "outputs": [],
   "source": [
    "from policyengine_core.model_api import *\n",
    "from policyengine_us import *\n",
    "from scipy.optimize import differential_evolution\n",
    "\n",
    "INCOME_ELASTICITY = -0.05\n",
    "\n",
    "\n",
    "def create_funding_reform(flat_tax_rate: float, include_lsrs: bool = True):\n",
    "    return Reform.from_dict({\n",
    "        \"gov.contrib.ubi_center.flat_tax.abolish_federal_income_tax\": {\n",
    "            \"year:2023:10\": True\n",
    "        },\n",
    "        \"gov.contrib.ubi_center.flat_tax.abolish_payroll_tax\": {\n",
    "            \"year:2023:10\": True\n",
    "        },\n",
    "        \"gov.contrib.ubi_center.flat_tax.abolish_self_emp_tax\": {\n",
    "            \"year:2023:10\": True\n",
    "        },\n",
    "        \"gov.ssa.ssi.abolish_ssi\": {\n",
    "            \"year:2023:10\": True\n",
    "        },\n",
    "        \"gov.usda.snap.abolish_snap\": {\n",
    "            \"year:2023:10\": True\n",
    "        },\n",
    "        \"gov.usda.wic.abolish_wic\": {\n",
    "            \"year:2023:10\": True\n",
    "        },\n",
    "        \"gov.contrib.ubi_center.flat_tax.rate.agi\": {\n",
    "            \"year:2023:10\": flat_tax_rate\n",
    "        },\n",
    "        \"gov.contrib.ubi_center.flat_tax.deduct_ptc\": {\n",
    "            \"year:2023:10\": True\n",
    "        },\n",
    "        \"gov.simulation.labor_supply_responses.elasticities.income\": {\n",
    "            \"year:2023:10\": -0.05\n",
    "        } if include_lsrs else {},\n",
    "        \"gov.simulation.labor_supply_responses.elasticities.substitution.by_position_and_decile.primary.1\": {\n",
    "            \"year:2023:10\": 0.31\n",
    "        } if include_lsrs else {},\n",
    "        \"gov.simulation.labor_supply_responses.elasticities.substitution.by_position_and_decile.primary.10\": {\n",
    "            \"year:2023:10\": 0.22\n",
    "        } if include_lsrs else {},\n",
    "        \"gov.simulation.labor_supply_responses.elasticities.substitution.by_position_and_decile.primary.2\": {\n",
    "            \"year:2023:10\": 0.28\n",
    "        } if include_lsrs else {},\n",
    "        \"gov.simulation.labor_supply_responses.elasticities.substitution.by_position_and_decile.primary.3\": {\n",
    "            \"year:2023:10\": 0.27\n",
    "        } if include_lsrs else {},\n",
    "        \"gov.simulation.labor_supply_responses.elasticities.substitution.by_position_and_decile.primary.4\": {\n",
    "            \"year:2023:10\": 0.27\n",
    "        } if include_lsrs else {},\n",
    "        \"gov.simulation.labor_supply_responses.elasticities.substitution.by_position_and_decile.primary.5\": {\n",
    "            \"year:2023:10\": 0.25\n",
    "        } if include_lsrs else {},\n",
    "        \"gov.simulation.labor_supply_responses.elasticities.substitution.by_position_and_decile.primary.6\": {\n",
    "            \"year:2023:10\": 0.25\n",
    "        } if include_lsrs else {},\n",
    "        \"gov.simulation.labor_supply_responses.elasticities.substitution.by_position_and_decile.primary.7\": {\n",
    "            \"year:2023:10\": 0.22\n",
    "        } if include_lsrs else {},\n",
    "        \"gov.simulation.labor_supply_responses.elasticities.substitution.by_position_and_decile.primary.8\": {\n",
    "            \"year:2023:10\": 0.22\n",
    "        } if include_lsrs else {},\n",
    "        \"gov.simulation.labor_supply_responses.elasticities.substitution.by_position_and_decile.primary.9\": {\n",
    "            \"year:2023:10\": 0.22\n",
    "        } if include_lsrs else {},\n",
    "        \"gov.simulation.labor_supply_responses.elasticities.substitution.by_position_and_decile.secondary\": {\n",
    "            \"year:2023:10\": 0.27\n",
    "        } if include_lsrs else {},\n",
    "    },\n",
    "    \"us\",\n",
    "    )\n",
    "\n",
    "\n",
    "baseline = Microsimulation(dataset=\"enhanced_cps_2022\")\n",
    "\n",
    "class BlankSlatePolicy:\n",
    "    young_child: float = 0\n",
    "    older_child: float = 0\n",
    "    young_adult: float = 0\n",
    "    adult: float = 0\n",
    "    senior: float = 0\n",
    "    flat_tax_rate: float = 0.40\n",
    "\n",
    "    def __init__(self, flat_tax_rate: float = 0.40, year: int = 2024, include_lsrs: bool = True):\n",
    "        self.baseline = baseline\n",
    "        self.blank_slate_funded = Microsimulation(reform=create_funding_reform(flat_tax_rate, include_lsrs), dataset=\"enhanced_cps_2022\")\n",
    "        self.baseline.default_calculation_period = year\n",
    "        self.blank_slate_funded.default_calculation_period = year\n",
    "        self.df = self.create_dataframe()\n",
    "        self.ubi_funding = self.get_ubi_funding()\n",
    "        self.flat_tax_rate = flat_tax_rate\n",
    "        self.include_lsrs = include_lsrs\n",
    "\n",
    "    def create_dataframe(self) -> pd.DataFrame:\n",
    "        age = self.baseline.calc(\"age\").values\n",
    "        df = pd.DataFrame(\n",
    "            dict(\n",
    "                baseline_net_income=self.baseline.calc(\n",
    "                    \"household_net_income\"\n",
    "                ).values,\n",
    "                baseline_tax=self.baseline.calculate(\n",
    "                    \"household_tax\"\n",
    "                ).values,\n",
    "                baseline_benefits=self.baseline.calculate(\n",
    "                    \"household_benefits\"\n",
    "                ).values,\n",
    "                count_young_child=self.baseline.map_result(\n",
    "                    age < 6, \"person\", \"household\"\n",
    "                ),\n",
    "                count_older_child=self.baseline.map_result(\n",
    "                    (age >= 6) & (age < 18), \"person\", \"household\"\n",
    "                ),\n",
    "                count_adult=self.baseline.map_result(\n",
    "                    (age >= 18) & (age < 65), \"person\", \"household\"\n",
    "                ),\n",
    "                count_senior=self.baseline.map_result(\n",
    "                    age >= 65, \"person\", \"household\"\n",
    "                ),\n",
    "                count_person=self.baseline.map_result(\n",
    "                    age >= 0, \"person\", \"household\"\n",
    "                ),\n",
    "                funded_net_income=self.blank_slate_funded.calculate(\n",
    "                    \"household_net_income\"\n",
    "                ).values,\n",
    "                funded_tax=self.blank_slate_funded.calculate(\n",
    "                    \"household_tax\"\n",
    "                ).values,\n",
    "                funded_benefits=self.blank_slate_funded.calculate(\n",
    "                    \"household_benefits\"\n",
    "                ).values,\n",
    "                count_disabled=self.baseline.calculate(\"is_ssi_disabled\", map_to=\"household\").values,\n",
    "                weight=self.baseline.calculate(\"household_weight\").values,\n",
    "            )\n",
    "        )\n",
    "\n",
    "        df[\"total_employment_income\"] = self.baseline.calculate(\"employment_income\", map_to=\"household\").values\n",
    "        df[\"total_self_employment_income\"] = self.baseline.calculate(\"self_employment_income\", map_to=\"household\").values\n",
    "        return df\n",
    "\n",
    "    def get_ubi_funding(self) -> float:\n",
    "        return (\n",
    "            (self.df.funded_tax - self.df.funded_benefits - self.df.baseline_tax + self.df.baseline_benefits)\n",
    "            * self.df.weight\n",
    "        ).sum()\n",
    "\n",
    "    def get_senior_amount(\n",
    "        self,\n",
    "        young_child: float,\n",
    "        older_child: float,\n",
    "        adult: float,\n",
    "        disabled: float,\n",
    "        funding_offset: float = 0,\n",
    "    ) -> float:\n",
    "        return (\n",
    "            self.ubi_funding + funding_offset\n",
    "            - young_child * (self.df.count_young_child * self.df.weight).sum()\n",
    "            - older_child * (self.df.count_older_child * self.df.weight).sum()\n",
    "            - adult * (self.df.count_adult * self.df.weight).sum()\n",
    "            - disabled * (self.df.count_disabled * self.df.weight).sum()\n",
    "        ) / (self.df.count_senior * self.df.weight).sum()\n",
    "\n",
    "    def mean_percentage_loss(\n",
    "        self,\n",
    "        young_child: float,\n",
    "        older_child: float,\n",
    "        adult: float,\n",
    "        disabled: float,\n",
    "        return_extras: bool = False\n",
    "    ) -> float:\n",
    "        senior_amount = self.get_senior_amount(\n",
    "            young_child, older_child, adult, disabled,\n",
    "        )\n",
    "        final_net_income = (\n",
    "            self.df.funded_net_income\n",
    "            + self.df.count_young_child * young_child\n",
    "            + self.df.count_older_child * older_child\n",
    "            + self.df.count_adult * adult\n",
    "            + self.df.count_senior * senior_amount\n",
    "            + self.df.count_disabled * disabled\n",
    "        )\n",
    "        gain = final_net_income - self.df.baseline_net_income\n",
    "        income_rel_change = final_net_income / self.df.funded_net_income - 1\n",
    "        income_rel_change_c = np.clip(income_rel_change, -1, 1)\n",
    "        total_income = self.df.total_employment_income + self.df.total_self_employment_income\n",
    "        income_effect = income_rel_change_c * total_income * INCOME_ELASTICITY\n",
    "        employment_income_change = income_effect\n",
    "        MTR_GUESS = self.flat_tax_rate\n",
    "        rough_net_income_change_from_lsr = employment_income_change * (1 - MTR_GUESS)\n",
    "        rough_tax_change_from_lsr = employment_income_change * MTR_GUESS\n",
    "        total_ubi_funding_change = (rough_tax_change_from_lsr * self.df.weight).sum()\n",
    "        if self.include_lsrs:\n",
    "            senior_amount = self.get_senior_amount(\n",
    "                young_child, older_child, adult, disabled, total_ubi_funding_change\n",
    "            )\n",
    "        final_net_income = (\n",
    "            self.df.funded_net_income\n",
    "            + self.df.count_young_child * young_child\n",
    "            + self.df.count_older_child * older_child\n",
    "            + self.df.count_adult * adult\n",
    "            + self.df.count_senior * senior_amount\n",
    "            + self.df.count_disabled * disabled\n",
    "        )\n",
    "        gain = final_net_income - self.df.baseline_net_income + rough_net_income_change_from_lsr\n",
    "        if not self.include_lsrs:\n",
    "            gain = gain - rough_net_income_change_from_lsr\n",
    "        absolute_loss = np.maximum(0, -gain)\n",
    "        pct_loss = absolute_loss / np.maximum(100, self.df.baseline_net_income)\n",
    "        average = np.average(\n",
    "            pct_loss, weights=self.df.weight * self.df.count_person\n",
    "        )\n",
    "        if return_extras:\n",
    "            return average, senior_amount, total_ubi_funding_change\n",
    "        return average\n",
    "\n",
    "    def solve(self, return_amounts: bool = False, return_loss: bool = False) -> dict:\n",
    "        (\n",
    "            self.young_child,\n",
    "            self.older_child,\n",
    "            self.adult,\n",
    "            self.disabled,\n",
    "        ) = differential_evolution(\n",
    "            lambda x: self.mean_percentage_loss(*x),\n",
    "            bounds=[(0, 30e3 * self.flat_tax_rate)] * 4,\n",
    "            maxiter=int(1e2),\n",
    "            seed=0,\n",
    "        ).x\n",
    "        _, self.senior, _ = self.mean_percentage_loss(\n",
    "            self.young_child, self.older_child, self.adult, self.disabled, return_extras=True\n",
    "        )\n",
    "        self.reform = Reform.from_dict(\n",
    "            {\n",
    "                **create_funding_reform(self.flat_tax_rate).parameter_values,\n",
    "                \"gov.contrib.ubi_center.basic_income.amount.person.by_age[0].amount\": {\n",
    "                    \"year:2023:10\": self.young_child\n",
    "                },\n",
    "                \"gov.contrib.ubi_center.basic_income.amount.person.by_age[1].amount\": {\n",
    "                    \"year:2023:10\": self.older_child\n",
    "                },\n",
    "                \"gov.contrib.ubi_center.basic_income.amount.person.by_age[2].amount\": {\n",
    "                    \"year:2023:10\": self.adult\n",
    "                },\n",
    "                \"gov.contrib.ubi_center.basic_income.amount.person.by_age[3].amount\": {\n",
    "                    \"year:2023:10\": self.adult\n",
    "                },\n",
    "                \"gov.contrib.ubi_center.basic_income.amount.person.by_age[4].amount\": {\n",
    "                    \"year:2023:10\": self.senior\n",
    "                },\n",
    "                \"gov.contrib.ubi_center.basic_income.amount.person.disability\": {\n",
    "                    \"year:2023:10\": self.disabled\n",
    "                },\n",
    "            },\n",
    "            \"us\",\n",
    "        )\n",
    "        if not return_amounts and not return_loss:\n",
    "            return self.reform\n",
    "        \n",
    "        data = dict(reform=self.reform)\n",
    "\n",
    "        if return_amounts:\n",
    "            data[\"amounts\"] = dict(\n",
    "                young_child=self.young_child,\n",
    "                older_child=self.older_child,\n",
    "                adult=self.adult,\n",
    "                senior=self.senior,\n",
    "                disabled=self.disabled,\n",
    "            )\n",
    "        \n",
    "        if return_loss:\n",
    "            data[\"loss\"] = self.mean_percentage_loss(\n",
    "                self.young_child, self.older_child, self.adult, self.disabled\n",
    "            )\n",
    "        \n",
    "        public_reform = Reform.from_dict(\n",
    "            {\n",
    "                path: value for path, value in self.reform.parameter_values.items()\n",
    "                if path.startswith(\"gov\")\n",
    "            },\n",
    "            \"us\",\n",
    "        )\n",
    "        data[\"id\"] = public_reform.api_id\n",
    "        data[\"reform\"] = public_reform\n",
    "        \n",
    "        return data"
   ]
  },
  {
   "cell_type": "code",
   "execution_count": 23,
   "metadata": {},
   "outputs": [
    {
     "name": "stderr",
     "output_type": "stream",
     "text": [
      "100%|██████████| 21/21 [2:31:55<00:00, 434.09s/it]  \n"
     ]
    }
   ],
   "source": [
    "import plotly.express as px\n",
    "from policyengine_core.charts import *\n",
    "from tqdm import tqdm\n",
    "import numpy as np\n",
    "import pandas as pd\n",
    "from policyengine_core.reforms import Reform\n",
    "import gc\n",
    "\n",
    "def get_reform_api_id_with_rounded_values(api_id):\n",
    "    parameter_values = Reform.from_api(api_id, \"us\").parameter_values\n",
    "    for parameter_name in [\n",
    "        \"gov.contrib.ubi_center.basic_income.amount.person.by_age[0].amount\",\n",
    "        \"gov.contrib.ubi_center.basic_income.amount.person.by_age[1].amount\",\n",
    "        \"gov.contrib.ubi_center.basic_income.amount.person.by_age[2].amount\",\n",
    "        \"gov.contrib.ubi_center.basic_income.amount.person.by_age[3].amount\",\n",
    "        \"gov.contrib.ubi_center.basic_income.amount.person.by_age[4].amount\",\n",
    "        \"gov.contrib.ubi_center.basic_income.amount.person.disability\",\n",
    "    ]:\n",
    "        for time_period in parameter_values[parameter_name]:\n",
    "            parameter_values[parameter_name][time_period] = round(\n",
    "                parameter_values[parameter_name][time_period] / (10 * 12)\n",
    "            ) * (10 * 12)\n",
    "\n",
    "    new_reform = Reform.from_dict(parameter_values, \"us\")\n",
    "    return new_reform.api_id\n",
    "\n",
    "def process_flat_tax_rate(flat_tax_rate):\n",
    "    try:\n",
    "        policy = BlankSlatePolicy(flat_tax_rate, year=2024)\n",
    "        data = policy.solve(return_amounts=True, return_loss=True)\n",
    "        return {\n",
    "            'flat_tax_rate': flat_tax_rate,\n",
    "            'loss': data[\"loss\"],\n",
    "            'api_id': data[\"id\"]\n",
    "        }\n",
    "    except Exception as e:\n",
    "        print(f\"Error processing flat_tax_rate {flat_tax_rate}: {str(e)}\")\n",
    "        return None\n",
    "\n",
    "def main():\n",
    "    flat_tax_rates = np.linspace(0.25, 0.45, 21)\n",
    "    results = []\n",
    "\n",
    "    for flat_tax_rate in tqdm(flat_tax_rates):\n",
    "        result = process_flat_tax_rate(flat_tax_rate)\n",
    "        if result:\n",
    "            results.append(result)\n",
    "        \n",
    "        # Force garbage collection\n",
    "        gc.collect()\n",
    "\n",
    "    df = pd.DataFrame(results)\n",
    "    df[\"rounded_ubi_api_id\"] = df[\"api_id\"].apply(get_reform_api_id_with_rounded_values)\n",
    "    df.to_csv(\"optimisation_results.csv\", index=False)\n",
    "\n",
    "if __name__ == \"__main__\":\n",
    "    main()"
   ]
  },
  {
   "cell_type": "code",
   "execution_count": 24,
   "metadata": {},
   "outputs": [
    {
     "data": {
      "application/vnd.plotly.v1+json": {
       "config": {
        "plotlyServerURL": "https://plot.ly"
       },
       "data": [
        {
         "hovertemplate": "flat_tax_rate=%{x}<br>loss=%{y}<extra></extra>",
         "legendgroup": "",
         "line": {
          "color": "#2C6496",
          "dash": "solid"
         },
         "marker": {
          "symbol": "circle"
         },
         "mode": "lines",
         "name": "",
         "orientation": "v",
         "showlegend": false,
         "type": "scatter",
         "x": [
          0.25,
          0.26,
          0.27,
          0.28,
          0.29,
          0.3,
          0.31,
          0.32,
          0.33,
          0.3399999999999999,
          0.35,
          0.36,
          0.37,
          0.38,
          0.39,
          0.4,
          0.41,
          0.42,
          0.43,
          0.44,
          0.45
         ],
         "xaxis": "x",
         "y": [
          0.4617415278581465,
          0.4352301146248875,
          0.4147548556948681,
          0.4015065604685825,
          0.391766305443132,
          0.3933884291415844,
          0.4108904858756116,
          0.4371886678970713,
          0.4768637993347317,
          0.5439279677170022,
          0.6643604669060397,
          0.9327155061702356,
          1.509760481816622,
          2.4096607135004096,
          3.4047458880583075,
          4.399626365774403,
          5.3938904673742005,
          6.3871090205939405,
          7.379675502500646,
          8.372101404175,
          9.373002583843371
         ],
         "yaxis": "y"
        }
       ],
       "layout": {
        "font": {
         "color": "black",
         "family": "Roboto Serif"
        },
        "height": 600,
        "images": [
         {
          "sizex": 0.15,
          "sizey": 0.15,
          "source": "https://raw.githubusercontent.com/PolicyEngine/policyengine-app/master/src/images/logos/policyengine/blue.png",
          "x": 1.1,
          "xanchor": "right",
          "xref": "paper",
          "y": -0.15,
          "yanchor": "bottom",
          "yref": "paper"
         }
        ],
        "legend": {
         "tracegroupgap": 0
        },
        "margin": {
         "t": 60
        },
        "modebar": {
         "bgcolor": "rgba(0,0,0,0)",
         "color": "rgba(0,0,0,0)"
        },
        "template": {
         "data": {
          "bar": [
           {
            "error_x": {
             "color": "#2a3f5f"
            },
            "error_y": {
             "color": "#2a3f5f"
            },
            "marker": {
             "line": {
              "color": "white",
              "width": 0.5
             },
             "pattern": {
              "fillmode": "overlay",
              "size": 10,
              "solidity": 0.2
             }
            },
            "type": "bar"
           }
          ],
          "barpolar": [
           {
            "marker": {
             "line": {
              "color": "white",
              "width": 0.5
             },
             "pattern": {
              "fillmode": "overlay",
              "size": 10,
              "solidity": 0.2
             }
            },
            "type": "barpolar"
           }
          ],
          "carpet": [
           {
            "aaxis": {
             "endlinecolor": "#2a3f5f",
             "gridcolor": "#C8D4E3",
             "linecolor": "#C8D4E3",
             "minorgridcolor": "#C8D4E3",
             "startlinecolor": "#2a3f5f"
            },
            "baxis": {
             "endlinecolor": "#2a3f5f",
             "gridcolor": "#C8D4E3",
             "linecolor": "#C8D4E3",
             "minorgridcolor": "#C8D4E3",
             "startlinecolor": "#2a3f5f"
            },
            "type": "carpet"
           }
          ],
          "choropleth": [
           {
            "colorbar": {
             "outlinewidth": 0,
             "ticks": ""
            },
            "type": "choropleth"
           }
          ],
          "contour": [
           {
            "colorbar": {
             "outlinewidth": 0,
             "ticks": ""
            },
            "colorscale": [
             [
              0,
              "#0d0887"
             ],
             [
              0.1111111111111111,
              "#46039f"
             ],
             [
              0.2222222222222222,
              "#7201a8"
             ],
             [
              0.3333333333333333,
              "#9c179e"
             ],
             [
              0.4444444444444444,
              "#bd3786"
             ],
             [
              0.5555555555555556,
              "#d8576b"
             ],
             [
              0.6666666666666666,
              "#ed7953"
             ],
             [
              0.7777777777777778,
              "#fb9f3a"
             ],
             [
              0.8888888888888888,
              "#fdca26"
             ],
             [
              1,
              "#f0f921"
             ]
            ],
            "type": "contour"
           }
          ],
          "contourcarpet": [
           {
            "colorbar": {
             "outlinewidth": 0,
             "ticks": ""
            },
            "type": "contourcarpet"
           }
          ],
          "heatmap": [
           {
            "colorbar": {
             "outlinewidth": 0,
             "ticks": ""
            },
            "colorscale": [
             [
              0,
              "#0d0887"
             ],
             [
              0.1111111111111111,
              "#46039f"
             ],
             [
              0.2222222222222222,
              "#7201a8"
             ],
             [
              0.3333333333333333,
              "#9c179e"
             ],
             [
              0.4444444444444444,
              "#bd3786"
             ],
             [
              0.5555555555555556,
              "#d8576b"
             ],
             [
              0.6666666666666666,
              "#ed7953"
             ],
             [
              0.7777777777777778,
              "#fb9f3a"
             ],
             [
              0.8888888888888888,
              "#fdca26"
             ],
             [
              1,
              "#f0f921"
             ]
            ],
            "type": "heatmap"
           }
          ],
          "heatmapgl": [
           {
            "colorbar": {
             "outlinewidth": 0,
             "ticks": ""
            },
            "colorscale": [
             [
              0,
              "#0d0887"
             ],
             [
              0.1111111111111111,
              "#46039f"
             ],
             [
              0.2222222222222222,
              "#7201a8"
             ],
             [
              0.3333333333333333,
              "#9c179e"
             ],
             [
              0.4444444444444444,
              "#bd3786"
             ],
             [
              0.5555555555555556,
              "#d8576b"
             ],
             [
              0.6666666666666666,
              "#ed7953"
             ],
             [
              0.7777777777777778,
              "#fb9f3a"
             ],
             [
              0.8888888888888888,
              "#fdca26"
             ],
             [
              1,
              "#f0f921"
             ]
            ],
            "type": "heatmapgl"
           }
          ],
          "histogram": [
           {
            "marker": {
             "pattern": {
              "fillmode": "overlay",
              "size": 10,
              "solidity": 0.2
             }
            },
            "type": "histogram"
           }
          ],
          "histogram2d": [
           {
            "colorbar": {
             "outlinewidth": 0,
             "ticks": ""
            },
            "colorscale": [
             [
              0,
              "#0d0887"
             ],
             [
              0.1111111111111111,
              "#46039f"
             ],
             [
              0.2222222222222222,
              "#7201a8"
             ],
             [
              0.3333333333333333,
              "#9c179e"
             ],
             [
              0.4444444444444444,
              "#bd3786"
             ],
             [
              0.5555555555555556,
              "#d8576b"
             ],
             [
              0.6666666666666666,
              "#ed7953"
             ],
             [
              0.7777777777777778,
              "#fb9f3a"
             ],
             [
              0.8888888888888888,
              "#fdca26"
             ],
             [
              1,
              "#f0f921"
             ]
            ],
            "type": "histogram2d"
           }
          ],
          "histogram2dcontour": [
           {
            "colorbar": {
             "outlinewidth": 0,
             "ticks": ""
            },
            "colorscale": [
             [
              0,
              "#0d0887"
             ],
             [
              0.1111111111111111,
              "#46039f"
             ],
             [
              0.2222222222222222,
              "#7201a8"
             ],
             [
              0.3333333333333333,
              "#9c179e"
             ],
             [
              0.4444444444444444,
              "#bd3786"
             ],
             [
              0.5555555555555556,
              "#d8576b"
             ],
             [
              0.6666666666666666,
              "#ed7953"
             ],
             [
              0.7777777777777778,
              "#fb9f3a"
             ],
             [
              0.8888888888888888,
              "#fdca26"
             ],
             [
              1,
              "#f0f921"
             ]
            ],
            "type": "histogram2dcontour"
           }
          ],
          "mesh3d": [
           {
            "colorbar": {
             "outlinewidth": 0,
             "ticks": ""
            },
            "type": "mesh3d"
           }
          ],
          "parcoords": [
           {
            "line": {
             "colorbar": {
              "outlinewidth": 0,
              "ticks": ""
             }
            },
            "type": "parcoords"
           }
          ],
          "pie": [
           {
            "automargin": true,
            "type": "pie"
           }
          ],
          "scatter": [
           {
            "fillpattern": {
             "fillmode": "overlay",
             "size": 10,
             "solidity": 0.2
            },
            "type": "scatter"
           }
          ],
          "scatter3d": [
           {
            "line": {
             "colorbar": {
              "outlinewidth": 0,
              "ticks": ""
             }
            },
            "marker": {
             "colorbar": {
              "outlinewidth": 0,
              "ticks": ""
             }
            },
            "type": "scatter3d"
           }
          ],
          "scattercarpet": [
           {
            "marker": {
             "colorbar": {
              "outlinewidth": 0,
              "ticks": ""
             }
            },
            "type": "scattercarpet"
           }
          ],
          "scattergeo": [
           {
            "marker": {
             "colorbar": {
              "outlinewidth": 0,
              "ticks": ""
             }
            },
            "type": "scattergeo"
           }
          ],
          "scattergl": [
           {
            "marker": {
             "colorbar": {
              "outlinewidth": 0,
              "ticks": ""
             }
            },
            "type": "scattergl"
           }
          ],
          "scattermapbox": [
           {
            "marker": {
             "colorbar": {
              "outlinewidth": 0,
              "ticks": ""
             }
            },
            "type": "scattermapbox"
           }
          ],
          "scatterpolar": [
           {
            "marker": {
             "colorbar": {
              "outlinewidth": 0,
              "ticks": ""
             }
            },
            "type": "scatterpolar"
           }
          ],
          "scatterpolargl": [
           {
            "marker": {
             "colorbar": {
              "outlinewidth": 0,
              "ticks": ""
             }
            },
            "type": "scatterpolargl"
           }
          ],
          "scatterternary": [
           {
            "marker": {
             "colorbar": {
              "outlinewidth": 0,
              "ticks": ""
             }
            },
            "type": "scatterternary"
           }
          ],
          "surface": [
           {
            "colorbar": {
             "outlinewidth": 0,
             "ticks": ""
            },
            "colorscale": [
             [
              0,
              "#0d0887"
             ],
             [
              0.1111111111111111,
              "#46039f"
             ],
             [
              0.2222222222222222,
              "#7201a8"
             ],
             [
              0.3333333333333333,
              "#9c179e"
             ],
             [
              0.4444444444444444,
              "#bd3786"
             ],
             [
              0.5555555555555556,
              "#d8576b"
             ],
             [
              0.6666666666666666,
              "#ed7953"
             ],
             [
              0.7777777777777778,
              "#fb9f3a"
             ],
             [
              0.8888888888888888,
              "#fdca26"
             ],
             [
              1,
              "#f0f921"
             ]
            ],
            "type": "surface"
           }
          ],
          "table": [
           {
            "cells": {
             "fill": {
              "color": "#EBF0F8"
             },
             "line": {
              "color": "white"
             }
            },
            "header": {
             "fill": {
              "color": "#C8D4E3"
             },
             "line": {
              "color": "white"
             }
            },
            "type": "table"
           }
          ]
         },
         "layout": {
          "annotationdefaults": {
           "arrowcolor": "#2a3f5f",
           "arrowhead": 0,
           "arrowwidth": 1
          },
          "autotypenumbers": "strict",
          "coloraxis": {
           "colorbar": {
            "outlinewidth": 0,
            "ticks": ""
           }
          },
          "colorscale": {
           "diverging": [
            [
             0,
             "#8e0152"
            ],
            [
             0.1,
             "#c51b7d"
            ],
            [
             0.2,
             "#de77ae"
            ],
            [
             0.3,
             "#f1b6da"
            ],
            [
             0.4,
             "#fde0ef"
            ],
            [
             0.5,
             "#f7f7f7"
            ],
            [
             0.6,
             "#e6f5d0"
            ],
            [
             0.7,
             "#b8e186"
            ],
            [
             0.8,
             "#7fbc41"
            ],
            [
             0.9,
             "#4d9221"
            ],
            [
             1,
             "#276419"
            ]
           ],
           "sequential": [
            [
             0,
             "#0d0887"
            ],
            [
             0.1111111111111111,
             "#46039f"
            ],
            [
             0.2222222222222222,
             "#7201a8"
            ],
            [
             0.3333333333333333,
             "#9c179e"
            ],
            [
             0.4444444444444444,
             "#bd3786"
            ],
            [
             0.5555555555555556,
             "#d8576b"
            ],
            [
             0.6666666666666666,
             "#ed7953"
            ],
            [
             0.7777777777777778,
             "#fb9f3a"
            ],
            [
             0.8888888888888888,
             "#fdca26"
            ],
            [
             1,
             "#f0f921"
            ]
           ],
           "sequentialminus": [
            [
             0,
             "#0d0887"
            ],
            [
             0.1111111111111111,
             "#46039f"
            ],
            [
             0.2222222222222222,
             "#7201a8"
            ],
            [
             0.3333333333333333,
             "#9c179e"
            ],
            [
             0.4444444444444444,
             "#bd3786"
            ],
            [
             0.5555555555555556,
             "#d8576b"
            ],
            [
             0.6666666666666666,
             "#ed7953"
            ],
            [
             0.7777777777777778,
             "#fb9f3a"
            ],
            [
             0.8888888888888888,
             "#fdca26"
            ],
            [
             1,
             "#f0f921"
            ]
           ]
          },
          "colorway": [
           "#636efa",
           "#EF553B",
           "#00cc96",
           "#ab63fa",
           "#FFA15A",
           "#19d3f3",
           "#FF6692",
           "#B6E880",
           "#FF97FF",
           "#FECB52"
          ],
          "font": {
           "color": "#2a3f5f"
          },
          "geo": {
           "bgcolor": "white",
           "lakecolor": "white",
           "landcolor": "white",
           "showlakes": true,
           "showland": true,
           "subunitcolor": "#C8D4E3"
          },
          "hoverlabel": {
           "align": "left"
          },
          "hovermode": "closest",
          "mapbox": {
           "style": "light"
          },
          "paper_bgcolor": "white",
          "plot_bgcolor": "white",
          "polar": {
           "angularaxis": {
            "gridcolor": "#EBF0F8",
            "linecolor": "#EBF0F8",
            "ticks": ""
           },
           "bgcolor": "white",
           "radialaxis": {
            "gridcolor": "#EBF0F8",
            "linecolor": "#EBF0F8",
            "ticks": ""
           }
          },
          "scene": {
           "xaxis": {
            "backgroundcolor": "white",
            "gridcolor": "#DFE8F3",
            "gridwidth": 2,
            "linecolor": "#EBF0F8",
            "showbackground": true,
            "ticks": "",
            "zerolinecolor": "#EBF0F8"
           },
           "yaxis": {
            "backgroundcolor": "white",
            "gridcolor": "#DFE8F3",
            "gridwidth": 2,
            "linecolor": "#EBF0F8",
            "showbackground": true,
            "ticks": "",
            "zerolinecolor": "#EBF0F8"
           },
           "zaxis": {
            "backgroundcolor": "white",
            "gridcolor": "#DFE8F3",
            "gridwidth": 2,
            "linecolor": "#EBF0F8",
            "showbackground": true,
            "ticks": "",
            "zerolinecolor": "#EBF0F8"
           }
          },
          "shapedefaults": {
           "line": {
            "color": "#2a3f5f"
           }
          },
          "ternary": {
           "aaxis": {
            "gridcolor": "#DFE8F3",
            "linecolor": "#A2B1C6",
            "ticks": ""
           },
           "baxis": {
            "gridcolor": "#DFE8F3",
            "linecolor": "#A2B1C6",
            "ticks": ""
           },
           "bgcolor": "white",
           "caxis": {
            "gridcolor": "#DFE8F3",
            "linecolor": "#A2B1C6",
            "ticks": ""
           }
          },
          "title": {
           "x": 0.05
          },
          "xaxis": {
           "automargin": true,
           "gridcolor": "#EBF0F8",
           "linecolor": "#EBF0F8",
           "ticks": "",
           "title": {
            "standoff": 15
           },
           "zerolinecolor": "#EBF0F8",
           "zerolinewidth": 2
          },
          "yaxis": {
           "automargin": true,
           "gridcolor": "#EBF0F8",
           "linecolor": "#EBF0F8",
           "ticks": "",
           "title": {
            "standoff": 15
           },
           "zerolinecolor": "#EBF0F8",
           "zerolinewidth": 2
          }
         }
        },
        "title": {
         "text": "Mean percentage loss by flat tax rate"
        },
        "width": 800,
        "xaxis": {
         "anchor": "y",
         "domain": [
          0,
          1
         ],
         "tickformat": ".0%",
         "title": {
          "text": "Flat tax rate"
         }
        },
        "yaxis": {
         "anchor": "x",
         "domain": [
          0,
          1
         ],
         "tickformat": ".1%",
         "title": {
          "text": "Loss"
         }
        }
       }
      }
     },
     "metadata": {},
     "output_type": "display_data"
    }
   ],
   "source": [
    "fig = px.line(\n",
    "    df.sort_values(\"flat_tax_rate\"),\n",
    "    x=\"flat_tax_rate\",\n",
    "    y=\"loss\",\n",
    ")\n",
    "\n",
    "format_fig(fig).update_traces(\n",
    "    # Set color to BLUE\n",
    "    line=dict(color=BLUE_PRIMARY),\n",
    ").update_layout(\n",
    "    title=\"Mean percentage loss by flat tax rate\",\n",
    "    xaxis_title=\"Flat tax rate\",\n",
    "    yaxis_title=\"Loss\",\n",
    "    xaxis_tickformat=\".0%\",\n",
    "    yaxis_tickformat=\".1%\",\n",
    ")"
   ]
  },
  {
   "cell_type": "code",
   "execution_count": 25,
   "metadata": {},
   "outputs": [
    {
     "name": "stderr",
     "output_type": "stream",
     "text": [
      "100%|██████████| 21/21 [4:08:48<00:00, 710.89s/it]  \n"
     ]
    }
   ],
   "source": [
    "import requests\n",
    "import pandas as pd\n",
    "import time\n",
    "\n",
    "API = \"https://api.policyengine.org\"\n",
    "\n",
    "def get_basic_income_amounts(policy_id):\n",
    "    # API endpoint URL\n",
    "    api_url = f\"{API}/us/policy/{policy_id}\"\n",
    "\n",
    "    # Making a GET request to the API\n",
    "    response = requests.get(api_url)\n",
    "\n",
    "    if response.status_code == 200:\n",
    "        # Parsing the JSON response\n",
    "        policy_data = response.json()\n",
    "\n",
    "        # Extracting and renaming the basic income amounts\n",
    "        basic_income_amounts = {}\n",
    "        age_group_mapping = {\n",
    "            \"gov.contrib.ubi_center.basic_income.amount.person.by_age[0].amount\": \"ubi_0_5\",\n",
    "            \"gov.contrib.ubi_center.basic_income.amount.person.by_age[1].amount\": \"ubi_6_17\",\n",
    "            \"gov.contrib.ubi_center.basic_income.amount.person.by_age[2].amount\": \"ubi_18_64\",\n",
    "            \"gov.contrib.ubi_center.basic_income.amount.person.by_age[4].amount\": \"ubi_65_plus\",\n",
    "            \"gov.contrib.ubi_center.basic_income.amount.person.disability\": \"ubi_disability\"\n",
    "        }\n",
    "\n",
    "        for key, value in policy_data[\"result\"][\"policy_json\"].items():\n",
    "            if key in age_group_mapping:\n",
    "                # Assuming the amount is the first value in the dictionary\n",
    "                amount = next(iter(value.values()))\n",
    "                basic_income_amounts[age_group_mapping[key]] = amount\n",
    "        return basic_income_amounts\n",
    "    else:\n",
    "        return None\n",
    "\n",
    "# Read the CSV file into a DataFrame\n",
    "df = pd.read_csv('optimisation_results.csv')\n",
    "\n",
    "def get_json_from_id(id):\n",
    "    res = requests.get(f\"{API}/us/economy/{id}/over/2?time_period=2024&region=enhanced_us\").json()\n",
    "\n",
    "    while res[\"status\"] == \"computing\":\n",
    "        time.sleep(5)\n",
    "        res = requests.get(f\"{API}/us/economy/{id}/over/2?time_period=2024&region=enhanced_us\").json()\n",
    "    \n",
    "    return res[\"result\"]\n",
    "\n",
    "# Fetch and add basic income amounts for each reform ID\n",
    "json_data = {}\n",
    "\n",
    "from tqdm import tqdm\n",
    "\n",
    "for i, row in tqdm(df.iterrows(), total=len(df)):\n",
    "    reform_id = int(row['rounded_ubi_api_id'])\n",
    "    amounts = get_basic_income_amounts(reform_id)\n",
    "    if amounts:\n",
    "        for column_name, amount in amounts.items():\n",
    "            df.loc[i, column_name] = amount\n",
    "    json_data[reform_id] = get_json_from_id(reform_id)\n",
    "\n",
    "df.to_csv('ubi_amounts.csv', index=False)\n",
    "\n",
    "with open(\"json_data.json\", \"w\") as f:\n",
    "    json.dump(json_data, f)"
   ]
  },
  {
   "cell_type": "code",
   "execution_count": null,
   "metadata": {},
   "outputs": [],
   "source": []
  }
 ],
 "metadata": {
  "kernelspec": {
   "display_name": "base",
   "language": "python",
   "name": "python3"
  },
  "language_info": {
   "codemirror_mode": {
    "name": "ipython",
    "version": 3
   },
   "file_extension": ".py",
   "mimetype": "text/x-python",
   "name": "python",
   "nbconvert_exporter": "python",
   "pygments_lexer": "ipython3",
   "version": "3.9.16"
  }
 },
 "nbformat": 4,
 "nbformat_minor": 2
}
